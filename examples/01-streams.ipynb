{
 "cells": [
  {
   "cell_type": "code",
   "execution_count": 2,
   "id": "84ec3ae1",
   "metadata": {},
   "outputs": [],
   "source": [
    "STREAM_NAME = \"TEST\""
   ]
  },
  {
   "cell_type": "code",
   "execution_count": 3,
   "id": "de8b9de3",
   "metadata": {},
   "outputs": [],
   "source": [
    "from jsm.api.client import Client as JS"
   ]
  },
  {
   "cell_type": "code",
   "execution_count": 4,
   "id": "97a869dd",
   "metadata": {},
   "outputs": [],
   "source": [
    "js = JS()\n",
    "await js.connect()"
   ]
  },
  {
   "cell_type": "markdown",
   "id": "3c8c3947",
   "metadata": {},
   "source": [
    "- Create a new stream"
   ]
  },
  {
   "cell_type": "code",
   "execution_count": 6,
   "id": "a99bc7e4",
   "metadata": {},
   "outputs": [
    {
     "data": {
      "text/plain": [
       "{'name': 'TEST',\n",
       " 'subjects': ['test.>'],\n",
       " 'retention': <Retention.limits: 'limits'>,\n",
       " 'max_consumers': 10,\n",
       " 'max_msgs': -1,\n",
       " 'max_msgs_per_subject': -1,\n",
       " 'max_bytes': -1,\n",
       " 'max_age': 0,\n",
       " 'max_msg_size': -1,\n",
       " 'storage': <Storage.file: 'file'>,\n",
       " 'num_replicas': 1,\n",
       " 'no_ack': False,\n",
       " 'template_owner': None,\n",
       " 'discard': <Discard.old: 'old'>,\n",
       " 'duplicate_window': 120000000000,\n",
       " 'placement': None,\n",
       " 'mirror': None,\n",
       " 'sources': None}"
      ]
     },
     "execution_count": 6,
     "metadata": {},
     "output_type": "execute_result"
    }
   ],
   "source": [
    "response = await js.stream_create(\"TEST\", subjects=[\"test.>\"], max_consumers=10, raise_on_error=True)\n",
    "response.config.dict()"
   ]
  },
  {
   "cell_type": "markdown",
   "id": "356c6d90",
   "metadata": {},
   "source": [
    "- List stream names"
   ]
  },
  {
   "cell_type": "code",
   "execution_count": 7,
   "id": "c47e651a",
   "metadata": {},
   "outputs": [
    {
     "data": {
      "text/plain": [
       "['TEST']"
      ]
     },
     "execution_count": 7,
     "metadata": {},
     "output_type": "execute_result"
    }
   ],
   "source": [
    "response = await js.stream_names()\n",
    "response.streams"
   ]
  },
  {
   "cell_type": "markdown",
   "id": "b8a73480",
   "metadata": {},
   "source": [
    "- List streams"
   ]
  },
  {
   "cell_type": "code",
   "execution_count": 8,
   "id": "5646f077",
   "metadata": {},
   "outputs": [],
   "source": [
    "response = await js.stream_list()"
   ]
  },
  {
   "cell_type": "code",
   "execution_count": 9,
   "id": "531c9362",
   "metadata": {},
   "outputs": [
    {
     "data": {
      "text/plain": [
       "{'config': {'name': 'TEST',\n",
       "  'subjects': ['test.>'],\n",
       "  'retention': <Retention.limits: 'limits'>,\n",
       "  'max_consumers': 10,\n",
       "  'max_msgs': -1,\n",
       "  'max_msgs_per_subject': -1,\n",
       "  'max_bytes': -1,\n",
       "  'max_age': 0,\n",
       "  'max_msg_size': -1,\n",
       "  'storage': <Storage.file: 'file'>,\n",
       "  'num_replicas': 1,\n",
       "  'no_ack': False,\n",
       "  'template_owner': None,\n",
       "  'discard': <Discard.old: 'old'>,\n",
       "  'duplicate_window': 120000000000,\n",
       "  'placement': None,\n",
       "  'mirror': None,\n",
       "  'sources': None},\n",
       " 'state': {'messages': 0,\n",
       "  'bytes': 0,\n",
       "  'first_seq': 0,\n",
       "  'first_ts': '0001-01-01T00:00:00Z',\n",
       "  'last_seq': 0,\n",
       "  'last_ts': '0001-01-01T00:00:00Z',\n",
       "  'deleted': None,\n",
       "  'num_deleted': None,\n",
       "  'lost': None,\n",
       "  'consumer_count': 0},\n",
       " 'created': '2021-07-25T23:18:17.0245932Z',\n",
       " 'cluster': None,\n",
       " 'mirror': None,\n",
       " 'sources': None}"
      ]
     },
     "execution_count": 9,
     "metadata": {},
     "output_type": "execute_result"
    }
   ],
   "source": [
    "response.streams[0].dict()"
   ]
  },
  {
   "cell_type": "markdown",
   "id": "83dc0acd",
   "metadata": {},
   "source": [
    "- Get stream info"
   ]
  },
  {
   "cell_type": "code",
   "execution_count": 8,
   "id": "1c6c1f47",
   "metadata": {},
   "outputs": [],
   "source": [
    "response = await js.stream_info(STREAM_NAME)"
   ]
  },
  {
   "cell_type": "code",
   "execution_count": 9,
   "id": "5e073e89",
   "metadata": {},
   "outputs": [
    {
     "data": {
      "text/plain": [
       "{'type': 'io.nats.jetstream.api.v1.stream_info_response',\n",
       " 'config': {'name': 'TEST',\n",
       "  'subjects': ['test.>'],\n",
       "  'retention': <Retention.limits: 'limits'>,\n",
       "  'max_consumers': 10,\n",
       "  'max_msgs': -1,\n",
       "  'max_msgs_per_subject': -1,\n",
       "  'max_bytes': -1,\n",
       "  'max_age': 0,\n",
       "  'max_msg_size': -1,\n",
       "  'storage': <Storage.file: 'file'>,\n",
       "  'num_replicas': 1,\n",
       "  'no_ack': False,\n",
       "  'template_owner': None,\n",
       "  'discard': <Discard.old: 'old'>,\n",
       "  'duplicate_window': 120000000000,\n",
       "  'placement': None,\n",
       "  'mirror': None,\n",
       "  'sources': None},\n",
       " 'state': {'messages': 0,\n",
       "  'bytes': 0,\n",
       "  'first_seq': 0,\n",
       "  'first_ts': '0001-01-01T00:00:00Z',\n",
       "  'last_seq': 0,\n",
       "  'last_ts': '0001-01-01T00:00:00Z',\n",
       "  'deleted': None,\n",
       "  'num_deleted': None,\n",
       "  'lost': None,\n",
       "  'consumer_count': 0},\n",
       " 'created': '2021-07-25T22:57:18.9843268Z',\n",
       " 'cluster': None,\n",
       " 'mirror': None,\n",
       " 'sources': None}"
      ]
     },
     "execution_count": 9,
     "metadata": {},
     "output_type": "execute_result"
    }
   ],
   "source": [
    "response.dict()"
   ]
  },
  {
   "cell_type": "markdown",
   "id": "11359bdc",
   "metadata": {},
   "source": [
    "- By defaults errors are not raised, but it can be easily changed using the `raise_on_error` keyword argument:"
   ]
  },
  {
   "cell_type": "code",
   "execution_count": 10,
   "id": "8b1227e9",
   "metadata": {},
   "outputs": [
    {
     "data": {
      "text/plain": [
       "IoNatsJetstreamApiV1ErrorResponse(type='io.nats.jetstream.api.v1.stream_info_response', error=IoNatsJetstreamApiV1ErrorItem(code=404, description='stream not found'))"
      ]
     },
     "execution_count": 10,
     "metadata": {},
     "output_type": "execute_result"
    }
   ],
   "source": [
    "await js.stream_info(\"toto\")"
   ]
  },
  {
   "cell_type": "code",
   "execution_count": 12,
   "id": "e7eb346e",
   "metadata": {},
   "outputs": [
    {
     "name": "stderr",
     "output_type": "stream",
     "text": [
      "2021-07-26 00:57:33.271 | ERROR    | __main__:<module>:8 - IoNatsJetstreamApiV1Exception('Status code=404 | Description=stream not found | Type=io.nats.jetstream.api.v1.stream_info_response')\n"
     ]
    }
   ],
   "source": [
    "from jsm.models.errors import IoNatsJetstreamApiV1Exception\n",
    "from loguru import logger\n",
    "\n",
    "\n",
    "try:\n",
    "    await js.stream_info(\"toto\", raise_on_error=True)\n",
    "except IoNatsJetstreamApiV1Exception as err:\n",
    "    logger.error(repr(err))"
   ]
  },
  {
   "cell_type": "markdown",
   "id": "35b0de5d",
   "metadata": {},
   "source": [
    "- Update a stream"
   ]
  },
  {
   "cell_type": "code",
   "execution_count": 13,
   "id": "8e016d3c",
   "metadata": {},
   "outputs": [],
   "source": [
    "response = await js.stream_update(STREAM_NAME, subjects=[\"test.>\", \"demo.>\"])"
   ]
  },
  {
   "cell_type": "code",
   "execution_count": 14,
   "id": "f477da7f",
   "metadata": {},
   "outputs": [
    {
     "data": {
      "text/plain": [
       "Config(name='TEST', subjects=['test.>', 'demo.>'], retention=<Retention.limits: 'limits'>, max_consumers=10, max_msgs=-1, max_msgs_per_subject=-1, max_bytes=-1, max_age=0, max_msg_size=-1, storage=<Storage.file: 'file'>, num_replicas=1, no_ack=False, template_owner=None, discard=<Discard.old: 'old'>, duplicate_window=120000000000, placement=None, mirror=None, sources=None)"
      ]
     },
     "execution_count": 14,
     "metadata": {},
     "output_type": "execute_result"
    }
   ],
   "source": [
    "response.config"
   ]
  },
  {
   "cell_type": "markdown",
   "id": "55ed4af1",
   "metadata": {},
   "source": [
    "Checking that configuration was indeed updated can be done easily:"
   ]
  },
  {
   "cell_type": "code",
   "execution_count": 15,
   "id": "2e3106fd",
   "metadata": {},
   "outputs": [],
   "source": [
    "assert (await js.stream_info(STREAM_NAME)).config.subjects == [\"test.>\", \"demo.>\"]"
   ]
  },
  {
   "cell_type": "markdown",
   "id": "a4fc4bf2",
   "metadata": {},
   "source": [
    "- Delete a stream"
   ]
  },
  {
   "cell_type": "code",
   "execution_count": 16,
   "id": "0917aaa2",
   "metadata": {},
   "outputs": [
    {
     "data": {
      "text/plain": [
       "IoNatsJetstreamApiV1StreamDeleteResponse(type='io.nats.jetstream.api.v1.stream_delete_response', success=True)"
      ]
     },
     "execution_count": 16,
     "metadata": {},
     "output_type": "execute_result"
    }
   ],
   "source": [
    "await js.stream_delete(STREAM_NAME)"
   ]
  },
  {
   "cell_type": "markdown",
   "id": "43362a3b",
   "metadata": {},
   "source": [
    "- Recreate the stream"
   ]
  },
  {
   "cell_type": "code",
   "execution_count": 17,
   "id": "aab015b3",
   "metadata": {},
   "outputs": [
    {
     "data": {
      "text/plain": [
       "IoNatsJetstreamApiV1StreamCreateResponse(type='io.nats.jetstream.api.v1.stream_create_response', config=Config(name='TEST', subjects=['test.>'], retention=<Retention.limits: 'limits'>, max_consumers=-1, max_msgs=-1, max_msgs_per_subject=-1, max_bytes=-1, max_age=0, max_msg_size=-1, storage=<Storage.file: 'file'>, num_replicas=1, no_ack=False, template_owner=None, discard=<Discard.old: 'old'>, duplicate_window=120000000000, placement=None, mirror=None, sources=None), state=State(messages=0, bytes=0, first_seq=0, first_ts='0001-01-01T00:00:00Z', last_seq=0, last_ts='0001-01-01T00:00:00Z', deleted=None, num_deleted=None, lost=None, consumer_count=0), created='2021-07-25T22:57:48.6629514Z', cluster=None, mirror=None, sources=None)"
      ]
     },
     "execution_count": 17,
     "metadata": {},
     "output_type": "execute_result"
    }
   ],
   "source": [
    "await js.stream_create(STREAM_NAME, subjects=[\"test.>\"])"
   ]
  },
  {
   "cell_type": "markdown",
   "id": "3e0194f2",
   "metadata": {},
   "source": [
    "- Publish a message to the stream"
   ]
  },
  {
   "cell_type": "code",
   "execution_count": 18,
   "id": "da8998a2",
   "metadata": {},
   "outputs": [],
   "source": [
    "await js.publish(\"test.demo\", b\"hello world\")"
   ]
  },
  {
   "cell_type": "markdown",
   "id": "a74c2e7f",
   "metadata": {},
   "source": [
    "- Check the stream state"
   ]
  },
  {
   "cell_type": "code",
   "execution_count": 19,
   "id": "e91fbe7d",
   "metadata": {},
   "outputs": [
    {
     "data": {
      "text/plain": [
       "State(messages=1, bytes=50, first_seq=1, first_ts='2021-07-25T22:57:50.364609Z', last_seq=1, last_ts='2021-07-25T22:57:50.364609Z', deleted=None, num_deleted=None, lost=None, consumer_count=0)"
      ]
     },
     "execution_count": 19,
     "metadata": {},
     "output_type": "execute_result"
    }
   ],
   "source": [
    "response = await js.stream_info(STREAM_NAME)\n",
    "response.state"
   ]
  },
  {
   "cell_type": "markdown",
   "id": "23bd4179",
   "metadata": {},
   "source": [
    "We can see that there is 1 message, with `first_seq` being 1 and `last_seq` being also 1. We can fetch a message by its sequence:"
   ]
  },
  {
   "cell_type": "code",
   "execution_count": 20,
   "id": "0b92cbef",
   "metadata": {},
   "outputs": [],
   "source": [
    "response = await js.stream_msg_get(STREAM_NAME, 1)"
   ]
  },
  {
   "cell_type": "code",
   "execution_count": 21,
   "id": "bcd14a9c",
   "metadata": {},
   "outputs": [
    {
     "data": {
      "text/plain": [
       "Message(subject='test.demo', seq=1, data='aGVsbG8gd29ybGQ=', time='2021-07-25T22:57:50.364609Z', hdrs=None)"
      ]
     },
     "execution_count": 21,
     "metadata": {},
     "output_type": "execute_result"
    }
   ],
   "source": [
    "response.message"
   ]
  },
  {
   "cell_type": "markdown",
   "id": "c7423142",
   "metadata": {},
   "source": [
    "- Delete a message"
   ]
  },
  {
   "cell_type": "code",
   "execution_count": 22,
   "id": "94b9614c",
   "metadata": {},
   "outputs": [],
   "source": [
    "response = await js.stream_msg_delete(STREAM_NAME, 1)"
   ]
  },
  {
   "cell_type": "code",
   "execution_count": 23,
   "id": "f6b57c3e",
   "metadata": {},
   "outputs": [
    {
     "data": {
      "text/plain": [
       "True"
      ]
     },
     "execution_count": 23,
     "metadata": {},
     "output_type": "execute_result"
    }
   ],
   "source": [
    "response.success"
   ]
  },
  {
   "cell_type": "markdown",
   "id": "95d37810",
   "metadata": {},
   "source": [
    "- Check the stream state again"
   ]
  },
  {
   "cell_type": "code",
   "execution_count": 24,
   "id": "8a6629cd",
   "metadata": {},
   "outputs": [],
   "source": [
    "response = await js.stream_info(STREAM_NAME)"
   ]
  },
  {
   "cell_type": "code",
   "execution_count": 25,
   "id": "74525e6e",
   "metadata": {},
   "outputs": [
    {
     "data": {
      "text/plain": [
       "State(messages=0, bytes=0, first_seq=2, first_ts='1970-01-01T00:00:00Z', last_seq=1, last_ts='2021-07-25T22:57:50.364609Z', deleted=None, num_deleted=None, lost=None, consumer_count=0)"
      ]
     },
     "execution_count": 25,
     "metadata": {},
     "output_type": "execute_result"
    }
   ],
   "source": [
    "response.state"
   ]
  },
  {
   "cell_type": "markdown",
   "id": "411fd875",
   "metadata": {},
   "source": [
    "As you can see, the `first_seq` is now 2 because we deleted the previous first message. Attempting to fetch a message not received yet will lead to a Jetstream error:"
   ]
  },
  {
   "cell_type": "code",
   "execution_count": 26,
   "id": "04d3b8fa",
   "metadata": {},
   "outputs": [
    {
     "ename": "IoNatsJetstreamApiV1Exception",
     "evalue": "Status code=404 | Description=no message found | Type=io.nats.jetstream.api.v1.stream_msg_get_response",
     "output_type": "error",
     "traceback": [
      "\u001b[0;31m---------------------------------------------------------------------------\u001b[0m",
      "\u001b[0;31mIoNatsJetstreamApiV1Exception\u001b[0m             Traceback (most recent call last)",
      "\u001b[0;32m/tmp/ipykernel_27660/1039479591.py\u001b[0m in \u001b[0;36m<module>\u001b[0;34m\u001b[0m\n\u001b[0;32m----> 1\u001b[0;31m \u001b[0;32mawait\u001b[0m \u001b[0mjs\u001b[0m\u001b[0;34m.\u001b[0m\u001b[0mstream_msg_get\u001b[0m\u001b[0;34m(\u001b[0m\u001b[0mSTREAM_NAME\u001b[0m\u001b[0;34m,\u001b[0m \u001b[0;36m2\u001b[0m\u001b[0;34m,\u001b[0m \u001b[0mraise_on_error\u001b[0m\u001b[0;34m=\u001b[0m\u001b[0;32mTrue\u001b[0m\u001b[0;34m)\u001b[0m\u001b[0;34m\u001b[0m\u001b[0;34m\u001b[0m\u001b[0m\n\u001b[0m",
      "\u001b[0;32m~/github/charbonnierg/jetstream.py/src/jsm/api/streams.py\u001b[0m in \u001b[0;36mstream_msg_get\u001b[0;34m(self, name, seq, timeout, raise_on_error)\u001b[0m\n\u001b[1;32m    379\u001b[0m         ].parse_raw(msg.data)\n\u001b[1;32m    380\u001b[0m         \u001b[0;32mif\u001b[0m \u001b[0mraise_on_error\u001b[0m\u001b[0;34m:\u001b[0m\u001b[0;34m\u001b[0m\u001b[0;34m\u001b[0m\u001b[0m\n\u001b[0;32m--> 381\u001b[0;31m             \u001b[0mresponse\u001b[0m\u001b[0;34m.\u001b[0m\u001b[0mraise_on_error\u001b[0m\u001b[0;34m(\u001b[0m\u001b[0;34m)\u001b[0m\u001b[0;34m\u001b[0m\u001b[0;34m\u001b[0m\u001b[0m\n\u001b[0m\u001b[1;32m    382\u001b[0m         \u001b[0;32mreturn\u001b[0m \u001b[0mresponse\u001b[0m\u001b[0;34m.\u001b[0m\u001b[0m__root__\u001b[0m\u001b[0;34m\u001b[0m\u001b[0;34m\u001b[0m\u001b[0m\n\u001b[1;32m    383\u001b[0m \u001b[0;34m\u001b[0m\u001b[0m\n",
      "\u001b[0;32m~/github/charbonnierg/jetstream.py/src/jsm/models/base.py\u001b[0m in \u001b[0;36mraise_on_error\u001b[0;34m(self)\u001b[0m\n\u001b[1;32m     33\u001b[0m         \u001b[0;34m\"\"\"Raise an error if the response if a JetstreamApiError.\"\"\"\u001b[0m\u001b[0;34m\u001b[0m\u001b[0;34m\u001b[0m\u001b[0m\n\u001b[1;32m     34\u001b[0m         \u001b[0;32mif\u001b[0m \u001b[0misinstance\u001b[0m\u001b[0;34m(\u001b[0m\u001b[0mself\u001b[0m\u001b[0;34m.\u001b[0m\u001b[0m__root__\u001b[0m\u001b[0;34m,\u001b[0m \u001b[0mIoNatsJetstreamApiV1ErrorResponse\u001b[0m\u001b[0;34m)\u001b[0m\u001b[0;34m:\u001b[0m\u001b[0;34m\u001b[0m\u001b[0;34m\u001b[0m\u001b[0m\n\u001b[0;32m---> 35\u001b[0;31m             \u001b[0;32mraise\u001b[0m \u001b[0mIoNatsJetstreamApiV1Exception\u001b[0m\u001b[0;34m(\u001b[0m\u001b[0mself\u001b[0m\u001b[0;34m.\u001b[0m\u001b[0m__root__\u001b[0m\u001b[0;34m)\u001b[0m\u001b[0;34m\u001b[0m\u001b[0;34m\u001b[0m\u001b[0m\n\u001b[0m",
      "\u001b[0;31mIoNatsJetstreamApiV1Exception\u001b[0m: Status code=404 | Description=no message found | Type=io.nats.jetstream.api.v1.stream_msg_get_response"
     ]
    }
   ],
   "source": [
    "await js.stream_msg_get(STREAM_NAME, 2, raise_on_error=True)"
   ]
  },
  {
   "cell_type": "markdown",
   "id": "a2f3f125",
   "metadata": {},
   "source": [
    "- Let's publish a new message to the stream"
   ]
  },
  {
   "cell_type": "code",
   "execution_count": 27,
   "id": "5add3a57",
   "metadata": {},
   "outputs": [],
   "source": [
    "await js.publish(\"test.demo\", b\"hello again\")"
   ]
  },
  {
   "cell_type": "code",
   "execution_count": 28,
   "id": "091627da",
   "metadata": {},
   "outputs": [
    {
     "data": {
      "text/plain": [
       "State(messages=1, bytes=50, first_seq=2, first_ts='2021-07-25T22:58:03.3321065Z', last_seq=2, last_ts='2021-07-25T22:58:03.3321065Z', deleted=None, num_deleted=None, lost=None, consumer_count=0)"
      ]
     },
     "execution_count": 28,
     "metadata": {},
     "output_type": "execute_result"
    }
   ],
   "source": [
    "response = await js.stream_info(STREAM_NAME)\n",
    "response.state"
   ]
  },
  {
   "cell_type": "markdown",
   "id": "a123046a",
   "metadata": {},
   "source": [
    "- The second message is now available"
   ]
  },
  {
   "cell_type": "code",
   "execution_count": 29,
   "id": "1ba92150",
   "metadata": {},
   "outputs": [
    {
     "data": {
      "text/plain": [
       "IoNatsJetstreamApiV1StreamMsgGetResponse(type='io.nats.jetstream.api.v1.stream_msg_get_response', message=Message(subject='test.demo', seq=2, data='aGVsbG8gYWdhaW4=', time='2021-07-25T22:58:03.3321065Z', hdrs=None))"
      ]
     },
     "execution_count": 29,
     "metadata": {},
     "output_type": "execute_result"
    }
   ],
   "source": [
    "await js.stream_msg_get(STREAM_NAME, 2)"
   ]
  },
  {
   "cell_type": "markdown",
   "id": "383d8afd",
   "metadata": {},
   "source": [
    "- Let's purge the stream"
   ]
  },
  {
   "cell_type": "code",
   "execution_count": 30,
   "id": "d81863a5",
   "metadata": {},
   "outputs": [
    {
     "data": {
      "text/plain": [
       "IoNatsJetstreamApiV1StreamPurgeResponse(type='io.nats.jetstream.api.v1.stream_purge_response', success=True, purged=1)"
      ]
     },
     "execution_count": 30,
     "metadata": {},
     "output_type": "execute_result"
    }
   ],
   "source": [
    "await js.stream_purge(STREAM_NAME)"
   ]
  },
  {
   "cell_type": "markdown",
   "id": "359cfd25",
   "metadata": {},
   "source": [
    "- And fetch the stream info one last time"
   ]
  },
  {
   "cell_type": "code",
   "execution_count": 31,
   "id": "f81fd7d0",
   "metadata": {},
   "outputs": [
    {
     "data": {
      "text/plain": [
       "State(messages=0, bytes=0, first_seq=3, first_ts='0001-01-01T00:00:00Z', last_seq=2, last_ts='2021-07-25T22:58:03.3321065Z', deleted=None, num_deleted=None, lost=None, consumer_count=0)"
      ]
     },
     "execution_count": 31,
     "metadata": {},
     "output_type": "execute_result"
    }
   ],
   "source": [
    "response = await js.stream_info(STREAM_NAME)\n",
    "response.state"
   ]
  },
  {
   "cell_type": "markdown",
   "id": "45f36069",
   "metadata": {},
   "source": [
    "`first_ts` is reinitialized but `last_ts` is kept"
   ]
  },
  {
   "cell_type": "markdown",
   "id": "84c18e2d",
   "metadata": {},
   "source": [
    "- Backup a whole stream\n",
    "\n",
    "TODO"
   ]
  }
 ],
 "metadata": {
  "kernelspec": {
   "display_name": "jetstream.py",
   "language": "python",
   "name": "jetstream.py"
  },
  "language_info": {
   "codemirror_mode": {
    "name": "ipython",
    "version": 3
   },
   "file_extension": ".py",
   "mimetype": "text/x-python",
   "name": "python",
   "nbconvert_exporter": "python",
   "pygments_lexer": "ipython3",
   "version": "3.8.10"
  }
 },
 "nbformat": 4,
 "nbformat_minor": 5
}
