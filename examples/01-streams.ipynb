{
 "cells": [
  {
   "cell_type": "code",
   "execution_count": 1,
   "source": [
    "STREAM_NAME = \"TEST\""
   ],
   "outputs": [],
   "metadata": {}
  },
  {
   "cell_type": "code",
   "execution_count": 2,
   "source": [
    "from jsm.api.client import Client as JS"
   ],
   "outputs": [],
   "metadata": {}
  },
  {
   "cell_type": "code",
   "execution_count": 3,
   "source": [
    "js = JS()\n",
    "await js.connect()"
   ],
   "outputs": [],
   "metadata": {}
  },
  {
   "cell_type": "markdown",
   "source": [
    "- Create a new stream"
   ],
   "metadata": {}
  },
  {
   "cell_type": "code",
   "execution_count": 4,
   "source": [
    "response = await js.stream_create(\"TEST\", subjects=[\"test.>\"], max_consumers=10, raise_on_error=True)\n",
    "response.config.dict()"
   ],
   "outputs": [
    {
     "output_type": "execute_result",
     "data": {
      "text/plain": [
       "{'name': 'TEST',\n",
       " 'subjects': ['test.>'],\n",
       " 'retention': <Retention.limits: 'limits'>,\n",
       " 'max_consumers': 10,\n",
       " 'max_msgs': -1,\n",
       " 'max_msgs_per_subject': -1,\n",
       " 'max_bytes': -1,\n",
       " 'max_age': 0,\n",
       " 'max_msg_size': -1,\n",
       " 'storage': <Storage.file: 'file'>,\n",
       " 'num_replicas': 1,\n",
       " 'no_ack': False,\n",
       " 'template_owner': None,\n",
       " 'discard': <Discard.old: 'old'>,\n",
       " 'duplicate_window': 120000000000,\n",
       " 'placement': None,\n",
       " 'mirror': None,\n",
       " 'sources': None}"
      ]
     },
     "metadata": {},
     "execution_count": 4
    }
   ],
   "metadata": {}
  },
  {
   "cell_type": "markdown",
   "source": [
    "- List stream names"
   ],
   "metadata": {}
  },
  {
   "cell_type": "code",
   "execution_count": 5,
   "source": [
    "response = await js.stream_names()\n",
    "response.streams"
   ],
   "outputs": [
    {
     "output_type": "execute_result",
     "data": {
      "text/plain": [
       "['TEST']"
      ]
     },
     "metadata": {},
     "execution_count": 5
    }
   ],
   "metadata": {}
  },
  {
   "cell_type": "markdown",
   "source": [
    "- List streams"
   ],
   "metadata": {}
  },
  {
   "cell_type": "code",
   "execution_count": 6,
   "source": [
    "response = await js.stream_list()"
   ],
   "outputs": [],
   "metadata": {}
  },
  {
   "cell_type": "code",
   "execution_count": 7,
   "source": [
    "response.streams[0].dict()"
   ],
   "outputs": [
    {
     "output_type": "execute_result",
     "data": {
      "text/plain": [
       "{'config': {'name': 'TEST',\n",
       "  'subjects': ['test.>'],\n",
       "  'retention': <Retention.limits: 'limits'>,\n",
       "  'max_consumers': 10,\n",
       "  'max_msgs': -1,\n",
       "  'max_msgs_per_subject': -1,\n",
       "  'max_bytes': -1,\n",
       "  'max_age': 0,\n",
       "  'max_msg_size': -1,\n",
       "  'storage': <Storage.file: 'file'>,\n",
       "  'num_replicas': 1,\n",
       "  'no_ack': False,\n",
       "  'template_owner': None,\n",
       "  'discard': <Discard.old: 'old'>,\n",
       "  'duplicate_window': 120000000000,\n",
       "  'placement': None,\n",
       "  'mirror': None,\n",
       "  'sources': None},\n",
       " 'state': {'messages': 0,\n",
       "  'bytes': 0,\n",
       "  'first_seq': 0,\n",
       "  'first_ts': datetime.datetime(1, 1, 1, 0, 0, tzinfo=datetime.timezone.utc),\n",
       "  'last_seq': 0,\n",
       "  'last_ts': datetime.datetime(1, 1, 1, 0, 0, tzinfo=datetime.timezone.utc),\n",
       "  'deleted': None,\n",
       "  'num_deleted': None,\n",
       "  'lost': None,\n",
       "  'consumer_count': 0},\n",
       " 'created': '2021-08-09T00:55:58.1222356Z',\n",
       " 'mirror': None,\n",
       " 'sources': None,\n",
       " 'cluster': None}"
      ]
     },
     "metadata": {},
     "execution_count": 7
    }
   ],
   "metadata": {}
  },
  {
   "cell_type": "markdown",
   "source": [
    "- Get stream info"
   ],
   "metadata": {}
  },
  {
   "cell_type": "code",
   "execution_count": 8,
   "source": [
    "response = await js.stream_info(STREAM_NAME)"
   ],
   "outputs": [],
   "metadata": {}
  },
  {
   "cell_type": "code",
   "execution_count": 9,
   "source": [
    "response.dict()"
   ],
   "outputs": [
    {
     "output_type": "execute_result",
     "data": {
      "text/plain": [
       "{'type': 'io.nats.jetstream.api.v1.stream_info_response',\n",
       " 'config': {'name': 'TEST',\n",
       "  'subjects': ['test.>'],\n",
       "  'retention': <Retention.limits: 'limits'>,\n",
       "  'max_consumers': 10,\n",
       "  'max_msgs': -1,\n",
       "  'max_msgs_per_subject': -1,\n",
       "  'max_bytes': -1,\n",
       "  'max_age': 0,\n",
       "  'max_msg_size': -1,\n",
       "  'storage': <Storage.file: 'file'>,\n",
       "  'num_replicas': 1,\n",
       "  'no_ack': False,\n",
       "  'template_owner': None,\n",
       "  'discard': <Discard.old: 'old'>,\n",
       "  'duplicate_window': 120000000000,\n",
       "  'placement': None,\n",
       "  'mirror': None,\n",
       "  'sources': None},\n",
       " 'state': {'messages': 0,\n",
       "  'bytes': 0,\n",
       "  'first_seq': 0,\n",
       "  'first_ts': datetime.datetime(1, 1, 1, 0, 0, tzinfo=datetime.timezone.utc),\n",
       "  'last_seq': 0,\n",
       "  'last_ts': datetime.datetime(1, 1, 1, 0, 0, tzinfo=datetime.timezone.utc),\n",
       "  'deleted': None,\n",
       "  'num_deleted': None,\n",
       "  'lost': None,\n",
       "  'consumer_count': 0},\n",
       " 'created': '2021-08-09T00:55:58.1222356Z',\n",
       " 'mirror': None,\n",
       " 'sources': None,\n",
       " 'cluster': None}"
      ]
     },
     "metadata": {},
     "execution_count": 9
    }
   ],
   "metadata": {}
  },
  {
   "cell_type": "markdown",
   "source": [
    "- By defaults errors are not raised, but it can be easily changed using the `raise_on_error` keyword argument:"
   ],
   "metadata": {}
  },
  {
   "cell_type": "code",
   "execution_count": 10,
   "source": [
    "response = await js.stream_info(\"toto\")\n",
    "print(response)"
   ],
   "outputs": [
    {
     "output_type": "stream",
     "name": "stdout",
     "text": [
      "type='io.nats.jetstream.api.v1.stream_info_response' error=IoNatsJetstreamApiV1ErrorItem(code=404, description='stream not found')\n"
     ]
    }
   ],
   "metadata": {}
  },
  {
   "cell_type": "code",
   "execution_count": 11,
   "source": [
    "from jsm.api.errors import JetStreamError\n",
    "\n",
    "try:\n",
    "    await js.stream_info(\"toto\", raise_on_error=True)\n",
    "except JetStreamError as err:\n",
    "    print(f\"Type: {err.type}\")\n",
    "    print(f\"Code: {err.code}\")\n",
    "    print(f\"Description: {err.description}\")"
   ],
   "outputs": [
    {
     "output_type": "stream",
     "name": "stdout",
     "text": [
      "Type: io.nats.jetstream.api.v1.stream_info_response\n",
      "Code: 404\n",
      "Description: stream not found\n"
     ]
    }
   ],
   "metadata": {}
  },
  {
   "cell_type": "markdown",
   "source": [
    "- Update a stream"
   ],
   "metadata": {}
  },
  {
   "cell_type": "code",
   "execution_count": 12,
   "source": [
    "response = await js.stream_update(STREAM_NAME, subjects=[\"test.>\", \"demo.>\"])"
   ],
   "outputs": [],
   "metadata": {}
  },
  {
   "cell_type": "code",
   "execution_count": 13,
   "source": [
    "response.config"
   ],
   "outputs": [
    {
     "output_type": "execute_result",
     "data": {
      "text/plain": [
       "Config(name='TEST', subjects=['test.>', 'demo.>'], retention=<Retention.limits: 'limits'>, max_consumers=10, max_msgs=-1, max_msgs_per_subject=-1, max_bytes=-1, max_age=0, max_msg_size=-1, storage=<Storage.file: 'file'>, num_replicas=1, no_ack=False, template_owner=None, discard=<Discard.old: 'old'>, duplicate_window=120000000000, placement=None, mirror=None, sources=None)"
      ]
     },
     "metadata": {},
     "execution_count": 13
    }
   ],
   "metadata": {}
  },
  {
   "cell_type": "markdown",
   "source": [
    "Checking that configuration was indeed updated can be done easily:"
   ],
   "metadata": {}
  },
  {
   "cell_type": "code",
   "execution_count": 14,
   "source": [
    "assert (await js.stream_info(STREAM_NAME)).config.subjects == [\"test.>\", \"demo.>\"]"
   ],
   "outputs": [],
   "metadata": {}
  },
  {
   "cell_type": "markdown",
   "source": [
    "- Delete a stream"
   ],
   "metadata": {}
  },
  {
   "cell_type": "code",
   "execution_count": 15,
   "source": [
    "await js.stream_delete(STREAM_NAME)"
   ],
   "outputs": [
    {
     "output_type": "execute_result",
     "data": {
      "text/plain": [
       "IoNatsJetstreamApiV1StreamDeleteResponse(type='io.nats.jetstream.api.v1.stream_delete_response', success=True)"
      ]
     },
     "metadata": {},
     "execution_count": 15
    }
   ],
   "metadata": {}
  },
  {
   "cell_type": "markdown",
   "source": [
    "- Recreate the stream"
   ],
   "metadata": {}
  },
  {
   "cell_type": "code",
   "execution_count": 16,
   "source": [
    "await js.stream_create(STREAM_NAME, subjects=[\"test.>\"])"
   ],
   "outputs": [
    {
     "output_type": "execute_result",
     "data": {
      "text/plain": [
       "IoNatsJetstreamApiV1StreamCreateResponse(type='io.nats.jetstream.api.v1.stream_create_response', config=Config(name='TEST', subjects=['test.>'], retention=<Retention.limits: 'limits'>, max_consumers=-1, max_msgs=-1, max_msgs_per_subject=-1, max_bytes=-1, max_age=0, max_msg_size=-1, storage=<Storage.file: 'file'>, num_replicas=1, no_ack=False, template_owner=None, discard=<Discard.old: 'old'>, duplicate_window=120000000000, placement=None, mirror=None, sources=None), state=State(messages=0, bytes=0, first_seq=0, first_ts=datetime.datetime(1, 1, 1, 0, 0, tzinfo=datetime.timezone.utc), last_seq=0, last_ts=datetime.datetime(1, 1, 1, 0, 0, tzinfo=datetime.timezone.utc), deleted=None, num_deleted=None, lost=None, consumer_count=0), created='2021-08-09T00:55:59.1782441Z', mirror=None, sources=None, cluster=None)"
      ]
     },
     "metadata": {},
     "execution_count": 16
    }
   ],
   "metadata": {}
  },
  {
   "cell_type": "markdown",
   "source": [
    "- Publish a message to the stream"
   ],
   "metadata": {}
  },
  {
   "cell_type": "code",
   "execution_count": 17,
   "source": [
    "await js.publish(\"test.demo\", b\"hello world\")"
   ],
   "outputs": [],
   "metadata": {}
  },
  {
   "cell_type": "markdown",
   "source": [
    "- Check the stream state"
   ],
   "metadata": {}
  },
  {
   "cell_type": "code",
   "execution_count": 18,
   "source": [
    "response = await js.stream_info(STREAM_NAME)\n",
    "response.state"
   ],
   "outputs": [
    {
     "output_type": "execute_result",
     "data": {
      "text/plain": [
       "State(messages=1, bytes=50, first_seq=1, first_ts=datetime.datetime(2021, 8, 9, 0, 55, 59, 225812, tzinfo=datetime.timezone.utc), last_seq=1, last_ts=datetime.datetime(2021, 8, 9, 0, 55, 59, 225812, tzinfo=datetime.timezone.utc), deleted=None, num_deleted=None, lost=None, consumer_count=0)"
      ]
     },
     "metadata": {},
     "execution_count": 18
    }
   ],
   "metadata": {}
  },
  {
   "cell_type": "markdown",
   "source": [
    "We can see that there is 1 message, with `first_seq` being 1 and `last_seq` being also 1. We can fetch a message by its sequence:"
   ],
   "metadata": {}
  },
  {
   "cell_type": "code",
   "execution_count": 19,
   "source": [
    "response = await js.stream_msg_get(STREAM_NAME, 1)"
   ],
   "outputs": [],
   "metadata": {}
  },
  {
   "cell_type": "code",
   "execution_count": 20,
   "source": [
    "response.message"
   ],
   "outputs": [
    {
     "output_type": "execute_result",
     "data": {
      "text/plain": [
       "Message(subject='test.demo', seq=1, data='aGVsbG8gd29ybGQ=', time=datetime.datetime(2021, 8, 9, 0, 55, 59, 225812, tzinfo=datetime.timezone.utc), hdrs=None)"
      ]
     },
     "metadata": {},
     "execution_count": 20
    }
   ],
   "metadata": {}
  },
  {
   "cell_type": "markdown",
   "source": [
    "- Delete a message"
   ],
   "metadata": {}
  },
  {
   "cell_type": "code",
   "execution_count": 21,
   "source": [
    "response = await js.stream_msg_delete(STREAM_NAME, 1)"
   ],
   "outputs": [],
   "metadata": {}
  },
  {
   "cell_type": "code",
   "execution_count": 22,
   "source": [
    "response.success"
   ],
   "outputs": [
    {
     "output_type": "execute_result",
     "data": {
      "text/plain": [
       "True"
      ]
     },
     "metadata": {},
     "execution_count": 22
    }
   ],
   "metadata": {}
  },
  {
   "cell_type": "markdown",
   "source": [
    "- Check the stream state again"
   ],
   "metadata": {}
  },
  {
   "cell_type": "code",
   "execution_count": 23,
   "source": [
    "response = await js.stream_info(STREAM_NAME)"
   ],
   "outputs": [],
   "metadata": {}
  },
  {
   "cell_type": "code",
   "execution_count": 24,
   "source": [
    "response.state"
   ],
   "outputs": [
    {
     "output_type": "execute_result",
     "data": {
      "text/plain": [
       "State(messages=0, bytes=0, first_seq=2, first_ts=datetime.datetime(1970, 1, 1, 0, 0, tzinfo=datetime.timezone.utc), last_seq=1, last_ts=datetime.datetime(2021, 8, 9, 0, 55, 59, 225812, tzinfo=datetime.timezone.utc), deleted=None, num_deleted=None, lost=None, consumer_count=0)"
      ]
     },
     "metadata": {},
     "execution_count": 24
    }
   ],
   "metadata": {}
  },
  {
   "cell_type": "markdown",
   "source": [
    "As you can see, the `first_seq` is now 2 because we deleted the previous first message. Attempting to fetch a message not received yet will lead to a Jetstream error:"
   ],
   "metadata": {}
  },
  {
   "cell_type": "code",
   "execution_count": 25,
   "source": [
    "try:\n",
    "    await js.stream_msg_get(STREAM_NAME, 2, raise_on_error=True)\n",
    "except JetStreamError as err:\n",
    "    print(f\"Type: {err.type}\")\n",
    "    print(f\"Code: {err.code}\")\n",
    "    print(f\"Description: {err.description}\")"
   ],
   "outputs": [
    {
     "output_type": "stream",
     "name": "stdout",
     "text": [
      "Type: io.nats.jetstream.api.v1.stream_msg_get_response\n",
      "Code: 404\n",
      "Description: no message found\n"
     ]
    }
   ],
   "metadata": {}
  },
  {
   "cell_type": "markdown",
   "source": [
    "- Let's publish a new message to the stream"
   ],
   "metadata": {}
  },
  {
   "cell_type": "code",
   "execution_count": 26,
   "source": [
    "await js.publish(\"test.demo\", b\"hello again\")"
   ],
   "outputs": [],
   "metadata": {}
  },
  {
   "cell_type": "code",
   "execution_count": 27,
   "source": [
    "response = await js.stream_info(STREAM_NAME)\n",
    "response.state"
   ],
   "outputs": [
    {
     "output_type": "execute_result",
     "data": {
      "text/plain": [
       "State(messages=1, bytes=50, first_seq=2, first_ts=datetime.datetime(2021, 8, 9, 0, 56, 0, 477100, tzinfo=datetime.timezone.utc), last_seq=2, last_ts=datetime.datetime(2021, 8, 9, 0, 56, 0, 477100, tzinfo=datetime.timezone.utc), deleted=None, num_deleted=None, lost=None, consumer_count=0)"
      ]
     },
     "metadata": {},
     "execution_count": 27
    }
   ],
   "metadata": {}
  },
  {
   "cell_type": "markdown",
   "source": [
    "- The second message is now available"
   ],
   "metadata": {}
  },
  {
   "cell_type": "code",
   "execution_count": 28,
   "source": [
    "await js.stream_msg_get(STREAM_NAME, 2)"
   ],
   "outputs": [
    {
     "output_type": "execute_result",
     "data": {
      "text/plain": [
       "IoNatsJetstreamApiV1StreamMsgGetResponse(type='io.nats.jetstream.api.v1.stream_msg_get_response', message=Message(subject='test.demo', seq=2, data='aGVsbG8gYWdhaW4=', time=datetime.datetime(2021, 8, 9, 0, 56, 0, 477100, tzinfo=datetime.timezone.utc), hdrs=None))"
      ]
     },
     "metadata": {},
     "execution_count": 28
    }
   ],
   "metadata": {}
  },
  {
   "cell_type": "markdown",
   "source": [
    "- Let's purge the stream"
   ],
   "metadata": {}
  },
  {
   "cell_type": "code",
   "execution_count": 29,
   "source": [
    "await js.stream_purge(STREAM_NAME)"
   ],
   "outputs": [
    {
     "output_type": "execute_result",
     "data": {
      "text/plain": [
       "IoNatsJetstreamApiV1StreamPurgeResponse(type='io.nats.jetstream.api.v1.stream_purge_response', success=True, purged=1)"
      ]
     },
     "metadata": {},
     "execution_count": 29
    }
   ],
   "metadata": {}
  },
  {
   "cell_type": "markdown",
   "source": [
    "- And fetch the stream info one last time"
   ],
   "metadata": {}
  },
  {
   "cell_type": "code",
   "execution_count": 30,
   "source": [
    "response = await js.stream_info(STREAM_NAME)\n",
    "response.state"
   ],
   "outputs": [
    {
     "output_type": "execute_result",
     "data": {
      "text/plain": [
       "State(messages=0, bytes=0, first_seq=3, first_ts=datetime.datetime(1, 1, 1, 0, 0, tzinfo=datetime.timezone.utc), last_seq=2, last_ts=datetime.datetime(2021, 8, 9, 0, 56, 0, 477100, tzinfo=datetime.timezone.utc), deleted=None, num_deleted=None, lost=None, consumer_count=0)"
      ]
     },
     "metadata": {},
     "execution_count": 30
    }
   ],
   "metadata": {}
  },
  {
   "cell_type": "markdown",
   "source": [
    "`first_ts` is reinitialized but `last_ts` is kept"
   ],
   "metadata": {}
  },
  {
   "cell_type": "markdown",
   "source": [
    "- Backup a whole stream\n",
    "\n",
    "TODO"
   ],
   "metadata": {}
  }
 ],
 "metadata": {
  "kernelspec": {
   "name": "python3",
   "display_name": "Python 3.8.10 64-bit ('.venv': poetry)"
  },
  "language_info": {
   "codemirror_mode": {
    "name": "ipython",
    "version": 3
   },
   "file_extension": ".py",
   "mimetype": "text/x-python",
   "name": "python",
   "nbconvert_exporter": "python",
   "pygments_lexer": "ipython3",
   "version": "3.8.10"
  },
  "interpreter": {
   "hash": "76c97f07337ae8c3b0fceb43b7c25d2ab7d158a57ce559b5df19255265067890"
  }
 },
 "nbformat": 4,
 "nbformat_minor": 5
}