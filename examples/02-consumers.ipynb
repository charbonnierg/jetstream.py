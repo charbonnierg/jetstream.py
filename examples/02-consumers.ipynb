{
 "cells": [
  {
   "cell_type": "code",
   "execution_count": 1,
   "id": "085d2a1f",
   "metadata": {},
   "outputs": [],
   "source": [
    "STREAM_NAME = \"TEST\"\n",
    "CONSUMER = \"app-01\"\n",
    "\n",
    "from jsm.api.client import Client as JS\n",
    "\n",
    "js = JS()\n",
    "await js.connect()"
   ]
  },
  {
   "cell_type": "markdown",
   "id": "3a49fa1e",
   "metadata": {},
   "source": [
    "- List consumers"
   ]
  },
  {
   "cell_type": "code",
   "execution_count": 2,
   "id": "6467b1b8",
   "metadata": {},
   "outputs": [
    {
     "data": {
      "text/plain": [
       "IoNatsJetstreamApiV1ConsumerListResponse(type='io.nats.jetstream.api.v1.consumer_list_response', total=0, offset=0, limit=256, consumers=[])"
      ]
     },
     "execution_count": 2,
     "metadata": {},
     "output_type": "execute_result"
    }
   ],
   "source": [
    "await js.consumer_list(STREAM_NAME)"
   ]
  },
  {
   "cell_type": "markdown",
   "id": "c25187fb",
   "metadata": {},
   "source": [
    "- Create a consumer"
   ]
  },
  {
   "cell_type": "code",
   "execution_count": 3,
   "id": "5f9b23dd",
   "metadata": {},
   "outputs": [
    {
     "data": {
      "text/plain": [
       "IoNatsJetstreamApiV1ConsumerCreateResponse(type='io.nats.jetstream.api.v1.consumer_create_response', stream_name='TEST', name='app-01', config=Config(durable_name='app-01', deliver_subject=None, deliver_policy='last', ack_policy=<AckPolicy.explicit: 'explicit'>, ack_wait=30000000000, max_deliver=-1, filter_subject=None, replay_policy=<ReplayPolicy.instant: 'instant'>, sample_freq=None, rate_limit_bps=None, max_ack_pending=20000, idle_heartbeat=None, flow_control=None, max_waiting=512), created='2021-07-25T23:18:47.9586752Z', delivered=Delivered(consumer_seq=0, stream_seq=0), ack_floor=AckFloor(consumer_seq=0, stream_seq=0), num_ack_pending=0, num_redelivered=0, num_waiting=0, num_pending=0, cluster=Cluster(name=None, leader='NBTGNZD4UJQXTO6LGPYL7M6RBXOLDF3HY6MKV5IIP4AOBU6EQVN2SUDO', replicas=None))"
      ]
     },
     "execution_count": 3,
     "metadata": {},
     "output_type": "execute_result"
    }
   ],
   "source": [
    "await js.consumer_durable_create(STREAM_NAME, CONSUMER)"
   ]
  },
  {
   "cell_type": "markdown",
   "id": "0456c585",
   "metadata": {},
   "source": [
    "- Get consumer infos"
   ]
  },
  {
   "cell_type": "code",
   "execution_count": 4,
   "id": "5e35a538",
   "metadata": {},
   "outputs": [],
   "source": [
    "response = await js.consumer_info(STREAM_NAME, CONSUMER)"
   ]
  },
  {
   "cell_type": "code",
   "execution_count": 5,
   "id": "70ce2e25",
   "metadata": {},
   "outputs": [
    {
     "data": {
      "text/plain": [
       "{'type': 'io.nats.jetstream.api.v1.consumer_info_response',\n",
       " 'stream_name': 'TEST',\n",
       " 'name': 'app-01',\n",
       " 'config': {'durable_name': 'app-01',\n",
       "  'deliver_subject': None,\n",
       "  'deliver_policy': 'last',\n",
       "  'ack_policy': <AckPolicy.explicit: 'explicit'>,\n",
       "  'ack_wait': 30000000000,\n",
       "  'max_deliver': -1,\n",
       "  'filter_subject': None,\n",
       "  'replay_policy': <ReplayPolicy.instant: 'instant'>,\n",
       "  'sample_freq': None,\n",
       "  'rate_limit_bps': None,\n",
       "  'max_ack_pending': 20000,\n",
       "  'idle_heartbeat': None,\n",
       "  'flow_control': None,\n",
       "  'max_waiting': 512},\n",
       " 'created': '2021-07-25T23:18:47.9586752Z',\n",
       " 'delivered': {'consumer_seq': 0, 'stream_seq': 0},\n",
       " 'ack_floor': {'consumer_seq': 0, 'stream_seq': 0},\n",
       " 'num_ack_pending': 0,\n",
       " 'num_redelivered': 0,\n",
       " 'num_waiting': 0,\n",
       " 'num_pending': 0,\n",
       " 'cluster': {'name': None,\n",
       "  'leader': 'NBTGNZD4UJQXTO6LGPYL7M6RBXOLDF3HY6MKV5IIP4AOBU6EQVN2SUDO',\n",
       "  'replicas': None}}"
      ]
     },
     "execution_count": 5,
     "metadata": {},
     "output_type": "execute_result"
    }
   ],
   "source": [
    "response.dict()"
   ]
  },
  {
   "cell_type": "markdown",
   "id": "ae18461c",
   "metadata": {},
   "source": [
    "- Publish a message into a subject watched by the consumer"
   ]
  },
  {
   "cell_type": "code",
   "execution_count": 6,
   "id": "e3d6d5c2",
   "metadata": {},
   "outputs": [],
   "source": [
    "await js.publish(\"test.demo\", b\"1\")"
   ]
  },
  {
   "cell_type": "markdown",
   "id": "8d80158c",
   "metadata": {},
   "source": [
    "- Fetch the message\n",
    "\n",
    "**WARNING**: `auto_hack` is set to False by default, as in the example. It means that messages must be acknowledged manually."
   ]
  },
  {
   "cell_type": "code",
   "execution_count": 7,
   "id": "47f02276",
   "metadata": {},
   "outputs": [
    {
     "data": {
      "text/plain": [
       "b'1'"
      ]
     },
     "execution_count": 7,
     "metadata": {},
     "output_type": "execute_result"
    }
   ],
   "source": [
    "last_msg = await js.consumer_pull_next(STREAM_NAME, CONSUMER, auto_ack=False)\n",
    "last_msg.data"
   ]
  },
  {
   "cell_type": "markdown",
   "id": "4d207f57",
   "metadata": {},
   "source": [
    "- Acknowledge the message"
   ]
  },
  {
   "cell_type": "code",
   "execution_count": 8,
   "id": "671f1595",
   "metadata": {},
   "outputs": [],
   "source": [
    "await js.acknowledge(last_msg)"
   ]
  },
  {
   "cell_type": "markdown",
   "id": "25a518a6",
   "metadata": {},
   "source": [
    "If you don't want to manually acknowledge messages, set `auto_ack` to `True`."
   ]
  },
  {
   "cell_type": "markdown",
   "id": "b4da9f6f",
   "metadata": {},
   "source": [
    "- Iterate over messages. While async iterator is running, messages are sent using `nats` command line tool. By default iterator will wait for messages forever, this can be changed using `max_msgs` keyword argument. If it is set, once the maximum number of message has been received, subscription is stopped."
   ]
  },
  {
   "cell_type": "code",
   "execution_count": 9,
   "id": "97fb5faa",
   "metadata": {},
   "outputs": [
    {
     "name": "stdout",
     "output_type": "stream",
     "text": [
      "<Msg: subject='test.demo' reply='$JS.ACK.TEST.app-01.1.2.2.1627255143438309500.0' data='2...'>\n",
      "<Msg: subject='test.demo' reply='$JS.ACK.TEST.app-01.1.3.3.1627255144618338100.0' data='3...'>\n",
      "<Msg: subject='test.demo' reply='$JS.ACK.TEST.app-01.1.4.4.1627255145645437800.0' data='4...'>\n"
     ]
    }
   ],
   "source": [
    "async for message in js.consumer_pull_msgs(STREAM_NAME, CONSUMER, max_msgs=3):\n",
    "    # Do some work with the message\n",
    "    print(message)\n",
    "    # Ackownledge the message.\n",
    "    # If message is not acknowledged, it will eventually be resent\n",
    "    await js.acknowledge(message)"
   ]
  },
  {
   "cell_type": "markdown",
   "id": "31c2d7d0",
   "metadata": {},
   "source": [
    "- A fourth message was sent so it's still pending"
   ]
  },
  {
   "cell_type": "code",
   "execution_count": 10,
   "id": "00c081e9",
   "metadata": {},
   "outputs": [
    {
     "data": {
      "text/plain": [
       "IoNatsJetstreamApiV1ConsumerInfoResponse(type='io.nats.jetstream.api.v1.consumer_info_response', stream_name='TEST', name='app-01', config=Config(durable_name='app-01', deliver_subject=None, deliver_policy='last', ack_policy=<AckPolicy.explicit: 'explicit'>, ack_wait=30000000000, max_deliver=-1, filter_subject=None, replay_policy=<ReplayPolicy.instant: 'instant'>, sample_freq=None, rate_limit_bps=None, max_ack_pending=20000, idle_heartbeat=None, flow_control=None, max_waiting=512), created='2021-07-25T23:18:47.9586752Z', delivered=Delivered(consumer_seq=4, stream_seq=4), ack_floor=AckFloor(consumer_seq=4, stream_seq=4), num_ack_pending=0, num_redelivered=0, num_waiting=0, num_pending=0, cluster=Cluster(name=None, leader='NBTGNZD4UJQXTO6LGPYL7M6RBXOLDF3HY6MKV5IIP4AOBU6EQVN2SUDO', replicas=None))"
      ]
     },
     "execution_count": 10,
     "metadata": {},
     "output_type": "execute_result"
    }
   ],
   "source": [
    "await js.consumer_info(STREAM_NAME, CONSUMER)"
   ]
  },
  {
   "cell_type": "markdown",
   "id": "9266eebc",
   "metadata": {},
   "source": [
    "- We can pull it easily"
   ]
  },
  {
   "cell_type": "code",
   "execution_count": 11,
   "id": "27cff4d6",
   "metadata": {},
   "outputs": [
    {
     "data": {
      "text/plain": [
       "<Msg: subject='test.demo' reply='$JS.ACK.TEST.app-01.1.5.5.1627255146774986100.0' data='5...'>"
      ]
     },
     "execution_count": 11,
     "metadata": {},
     "output_type": "execute_result"
    }
   ],
   "source": [
    "await js.consumer_pull_next(STREAM_NAME, CONSUMER)"
   ]
  }
 ],
 "metadata": {
  "kernelspec": {
   "display_name": "jetstream.py",
   "language": "python",
   "name": "jetstream.py"
  },
  "language_info": {
   "codemirror_mode": {
    "name": "ipython",
    "version": 3
   },
   "file_extension": ".py",
   "mimetype": "text/x-python",
   "name": "python",
   "nbconvert_exporter": "python",
   "pygments_lexer": "ipython3",
   "version": "3.8.10"
  }
 },
 "nbformat": 4,
 "nbformat_minor": 5
}
