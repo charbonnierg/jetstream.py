{
 "cells": [
  {
   "cell_type": "code",
   "execution_count": 1,
   "source": [
    "STREAM_NAME = \"TEST\"\n",
    "CONSUMER = \"app-01\"\n",
    "\n",
    "from jsm.api.client import Client as JS\n",
    "\n",
    "js = JS()\n",
    "await js.connect()"
   ],
   "outputs": [],
   "metadata": {}
  },
  {
   "cell_type": "markdown",
   "source": [
    "- List consumers"
   ],
   "metadata": {}
  },
  {
   "cell_type": "code",
   "execution_count": 2,
   "source": [
    "await js.consumer_list(STREAM_NAME)"
   ],
   "outputs": [
    {
     "output_type": "execute_result",
     "data": {
      "text/plain": [
       "IoNatsJetstreamApiV1ConsumerListResponse(type='io.nats.jetstream.api.v1.consumer_list_response', total=0, offset=0, limit=256, consumers=[])"
      ]
     },
     "metadata": {},
     "execution_count": 2
    }
   ],
   "metadata": {}
  },
  {
   "cell_type": "markdown",
   "source": [
    "- Create a consumer"
   ],
   "metadata": {}
  },
  {
   "cell_type": "code",
   "execution_count": 3,
   "source": [
    "await js.consumer_durable_create(STREAM_NAME, CONSUMER)"
   ],
   "outputs": [
    {
     "output_type": "execute_result",
     "data": {
      "text/plain": [
       "IoNatsJetstreamApiV1ConsumerCreateResponse(type='io.nats.jetstream.api.v1.consumer_create_response', stream_name='TEST', name='app-01', config=Config(deliver_policy=<DeliverPolicy.last: 'last'>, ack_policy=<AckPolicy.explicit: 'explicit'>, durable_name='app-01', deliver_subject=None, ack_wait=30000000000, max_deliver=-1, filter_subject=None, replay_policy=<ReplayPolicy.instant: 'instant'>, sample_freq=None, rate_limit_bps=None, max_ack_pending=20000, idle_heartbeat=None, flow_control=None, max_waiting=512, ops_start_seq=None, ops_start_time=None), created=datetime.datetime(2021, 8, 9, 0, 56, 20, 74612, tzinfo=datetime.timezone.utc), delivered=Delivered(consumer_seq=0, stream_seq=2), ack_floor=AckFloor(consumer_seq=0, stream_seq=2), num_ack_pending=0, num_redelivered=0, num_waiting=0, num_pending=0, cluster=Cluster(name=None, leader='NAJYL4UCJ3G3SUF4WWCNQEVK6OHBFIBG5E27Z7SPGSQ5PMOXOMVJLWE7', replicas=None))"
      ]
     },
     "metadata": {},
     "execution_count": 3
    }
   ],
   "metadata": {}
  },
  {
   "cell_type": "markdown",
   "source": [
    "- Get consumer infos"
   ],
   "metadata": {}
  },
  {
   "cell_type": "code",
   "execution_count": 4,
   "source": [
    "response = await js.consumer_info(STREAM_NAME, CONSUMER)"
   ],
   "outputs": [],
   "metadata": {}
  },
  {
   "cell_type": "code",
   "execution_count": 5,
   "source": [
    "response.dict()"
   ],
   "outputs": [
    {
     "output_type": "execute_result",
     "data": {
      "text/plain": [
       "{'type': 'io.nats.jetstream.api.v1.consumer_info_response',\n",
       " 'stream_name': 'TEST',\n",
       " 'name': 'app-01',\n",
       " 'config': {'deliver_policy': <DeliverPolicy.last: 'last'>,\n",
       "  'ack_policy': <AckPolicy.explicit: 'explicit'>,\n",
       "  'durable_name': 'app-01',\n",
       "  'deliver_subject': None,\n",
       "  'ack_wait': 30000000000,\n",
       "  'max_deliver': -1,\n",
       "  'filter_subject': None,\n",
       "  'replay_policy': <ReplayPolicy.instant: 'instant'>,\n",
       "  'sample_freq': None,\n",
       "  'rate_limit_bps': None,\n",
       "  'max_ack_pending': 20000,\n",
       "  'idle_heartbeat': None,\n",
       "  'flow_control': None,\n",
       "  'max_waiting': 512,\n",
       "  'ops_start_seq': None,\n",
       "  'ops_start_time': None},\n",
       " 'created': datetime.datetime(2021, 8, 9, 0, 56, 20, 74612, tzinfo=datetime.timezone.utc),\n",
       " 'delivered': {'consumer_seq': 0, 'stream_seq': 2},\n",
       " 'ack_floor': {'consumer_seq': 0, 'stream_seq': 2},\n",
       " 'num_ack_pending': 0,\n",
       " 'num_redelivered': 0,\n",
       " 'num_waiting': 0,\n",
       " 'num_pending': 0,\n",
       " 'cluster': {'name': None,\n",
       "  'leader': 'NAJYL4UCJ3G3SUF4WWCNQEVK6OHBFIBG5E27Z7SPGSQ5PMOXOMVJLWE7',\n",
       "  'replicas': None}}"
      ]
     },
     "metadata": {},
     "execution_count": 5
    }
   ],
   "metadata": {}
  },
  {
   "cell_type": "markdown",
   "source": [
    "- Publish a message into a subject watched by the consumer"
   ],
   "metadata": {}
  },
  {
   "cell_type": "code",
   "execution_count": 6,
   "source": [
    "await js.publish(\"test.demo\", b\"1\")"
   ],
   "outputs": [],
   "metadata": {}
  },
  {
   "cell_type": "markdown",
   "source": [
    "- Fetch the message\n",
    "\n",
    "**WARNING**: `auto_hack` is set to False by default, as in the example. It means that messages must be acknowledged manually."
   ],
   "metadata": {}
  },
  {
   "cell_type": "code",
   "execution_count": 7,
   "source": [
    "last_msg = await js.consumer_pull_next(STREAM_NAME, CONSUMER, auto_ack=False)\n",
    "last_msg.data"
   ],
   "outputs": [
    {
     "output_type": "execute_result",
     "data": {
      "text/plain": [
       "b'1'"
      ]
     },
     "metadata": {},
     "execution_count": 7
    }
   ],
   "metadata": {}
  },
  {
   "cell_type": "markdown",
   "source": [
    "- Acknowledge the message"
   ],
   "metadata": {}
  },
  {
   "cell_type": "code",
   "execution_count": 8,
   "source": [
    "await js.acknowledge(last_msg)"
   ],
   "outputs": [],
   "metadata": {}
  },
  {
   "cell_type": "markdown",
   "source": [
    "If you don't want to manually acknowledge messages, set `auto_ack` to `True`."
   ],
   "metadata": {}
  },
  {
   "cell_type": "markdown",
   "source": [
    "- Iterate over messages. While async iterator is running, messages are sent using `nats` command line tool. By default iterator will wait for messages forever, this can be changed using `max_msgs` keyword argument. If it is set, once the maximum number of message has been received, subscription is stopped."
   ],
   "metadata": {}
  },
  {
   "cell_type": "code",
   "execution_count": 9,
   "source": [
    "async for message in js.consumer_pull_msgs(STREAM_NAME, CONSUMER, max_msgs=3):\n",
    "    # Do some work with the message\n",
    "    print(message)\n",
    "    # Ackownledge the message.\n",
    "    # If message is not acknowledged, it will eventually be resent\n",
    "    await js.acknowledge(message)"
   ],
   "outputs": [
    {
     "output_type": "stream",
     "name": "stdout",
     "text": [
      "<Msg: subject='test.demo' reply='$JS.ACK.TEST.app-01.1.4.2.1628470607399598200.0' data='msg 1...'>\n",
      "<Msg: subject='test.demo' reply='$JS.ACK.TEST.app-01.1.5.3.1628470609404802600.0' data='msg 2...'>\n",
      "<Msg: subject='test.demo' reply='$JS.ACK.TEST.app-01.1.6.4.1628470610876982500.0' data='msg 3...'>\n"
     ]
    }
   ],
   "metadata": {}
  },
  {
   "cell_type": "markdown",
   "source": [
    "- A fourth message was sent so it's still pending"
   ],
   "metadata": {}
  },
  {
   "cell_type": "code",
   "execution_count": 10,
   "source": [
    "await js.consumer_info(STREAM_NAME, CONSUMER)"
   ],
   "outputs": [
    {
     "output_type": "execute_result",
     "data": {
      "text/plain": [
       "IoNatsJetstreamApiV1ConsumerInfoResponse(type='io.nats.jetstream.api.v1.consumer_info_response', stream_name='TEST', name='app-01', config=Config(deliver_policy=<DeliverPolicy.last: 'last'>, ack_policy=<AckPolicy.explicit: 'explicit'>, durable_name='app-01', deliver_subject=None, ack_wait=30000000000, max_deliver=-1, filter_subject=None, replay_policy=<ReplayPolicy.instant: 'instant'>, sample_freq=None, rate_limit_bps=None, max_ack_pending=20000, idle_heartbeat=None, flow_control=None, max_waiting=512, ops_start_seq=None, ops_start_time=None), created=datetime.datetime(2021, 8, 9, 0, 56, 20, 74612, tzinfo=datetime.timezone.utc), delivered=Delivered(consumer_seq=4, stream_seq=6), ack_floor=AckFloor(consumer_seq=4, stream_seq=6), num_ack_pending=0, num_redelivered=0, num_waiting=0, num_pending=0, cluster=Cluster(name=None, leader='NAJYL4UCJ3G3SUF4WWCNQEVK6OHBFIBG5E27Z7SPGSQ5PMOXOMVJLWE7', replicas=None))"
      ]
     },
     "metadata": {},
     "execution_count": 10
    }
   ],
   "metadata": {}
  },
  {
   "cell_type": "markdown",
   "source": [
    "- We can pull it easily"
   ],
   "metadata": {}
  },
  {
   "cell_type": "code",
   "execution_count": 11,
   "source": [
    "await js.consumer_pull_next(STREAM_NAME, CONSUMER)"
   ],
   "outputs": [
    {
     "output_type": "execute_result",
     "data": {
      "text/plain": [
       "<Msg: subject='test.demo' reply='$JS.ACK.TEST.app-01.1.7.5.1628470612726930100.0' data='msg 4...'>"
      ]
     },
     "metadata": {},
     "execution_count": 11
    }
   ],
   "metadata": {}
  }
 ],
 "metadata": {
  "kernelspec": {
   "name": "python3",
   "display_name": "Python 3.8.10 64-bit ('.venv': poetry)"
  },
  "language_info": {
   "codemirror_mode": {
    "name": "ipython",
    "version": 3
   },
   "file_extension": ".py",
   "mimetype": "text/x-python",
   "name": "python",
   "nbconvert_exporter": "python",
   "pygments_lexer": "ipython3",
   "version": "3.8.10"
  },
  "interpreter": {
   "hash": "76c97f07337ae8c3b0fceb43b7c25d2ab7d158a57ce559b5df19255265067890"
  }
 },
 "nbformat": 4,
 "nbformat_minor": 5
}